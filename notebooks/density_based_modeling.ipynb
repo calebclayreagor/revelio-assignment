{
 "cells": [
  {
   "cell_type": "code",
   "execution_count": 1,
   "id": "d8c8f778",
   "metadata": {},
   "outputs": [],
   "source": [
    "import os, sys\n",
    "sys.path.append('../')\n",
    "import geopandas as gpd\n",
    "import matplotlib.pyplot as plt\n",
    "from utils.modeling import fit_iterative_density_model"
   ]
  },
  {
   "cell_type": "code",
   "execution_count": 2,
   "id": "20c8df9e",
   "metadata": {},
   "outputs": [
    {
     "data": {
      "text/html": [
       "<div>\n",
       "<style scoped>\n",
       "    .dataframe tbody tr th:only-of-type {\n",
       "        vertical-align: middle;\n",
       "    }\n",
       "\n",
       "    .dataframe tbody tr th {\n",
       "        vertical-align: top;\n",
       "    }\n",
       "\n",
       "    .dataframe thead th {\n",
       "        text-align: right;\n",
       "    }\n",
       "</style>\n",
       "<table border=\"1\" class=\"dataframe\">\n",
       "  <thead>\n",
       "    <tr style=\"text-align: right;\">\n",
       "      <th></th>\n",
       "      <th>city</th>\n",
       "      <th>state</th>\n",
       "      <th>country</th>\n",
       "      <th>latitude</th>\n",
       "      <th>longitude</th>\n",
       "      <th>population</th>\n",
       "      <th>msa</th>\n",
       "      <th>US</th>\n",
       "      <th>geometry</th>\n",
       "    </tr>\n",
       "  </thead>\n",
       "  <tbody>\n",
       "    <tr>\n",
       "      <th>0</th>\n",
       "      <td>mahopac</td>\n",
       "      <td>new york</td>\n",
       "      <td>united states</td>\n",
       "      <td>41.37232</td>\n",
       "      <td>-73.73346</td>\n",
       "      <td>8369</td>\n",
       "      <td>New York-Northern New Jersey-Long Island NY-NJ...</td>\n",
       "      <td>True</td>\n",
       "      <td>POINT (-8207971.222 5067414.863)</td>\n",
       "    </tr>\n",
       "    <tr>\n",
       "      <th>1</th>\n",
       "      <td>seven hills</td>\n",
       "      <td>ohio</td>\n",
       "      <td>united states</td>\n",
       "      <td>41.39533</td>\n",
       "      <td>-81.67624</td>\n",
       "      <td>11690</td>\n",
       "      <td>None</td>\n",
       "      <td>True</td>\n",
       "      <td>POINT (-9092157.447 5070828.79)</td>\n",
       "    </tr>\n",
       "    <tr>\n",
       "      <th>2</th>\n",
       "      <td>new martinsville</td>\n",
       "      <td>west virginia</td>\n",
       "      <td>united states</td>\n",
       "      <td>39.64452</td>\n",
       "      <td>-80.85760</td>\n",
       "      <td>5218</td>\n",
       "      <td>None</td>\n",
       "      <td>True</td>\n",
       "      <td>POINT (-9001026.859 4814418.565)</td>\n",
       "    </tr>\n",
       "    <tr>\n",
       "      <th>3</th>\n",
       "      <td>sint anthonis</td>\n",
       "      <td>north brabant</td>\n",
       "      <td>netherlands</td>\n",
       "      <td>51.62667</td>\n",
       "      <td>5.88194</td>\n",
       "      <td>3340</td>\n",
       "      <td>None</td>\n",
       "      <td>False</td>\n",
       "      <td>POINT (654774.566 6732902.058)</td>\n",
       "    </tr>\n",
       "    <tr>\n",
       "      <th>4</th>\n",
       "      <td>machali</td>\n",
       "      <td>o higgins region</td>\n",
       "      <td>chile</td>\n",
       "      <td>-34.18082</td>\n",
       "      <td>-70.64933</td>\n",
       "      <td>27595</td>\n",
       "      <td>None</td>\n",
       "      <td>False</td>\n",
       "      <td>POINT (-7864647.44 -4053107.653)</td>\n",
       "    </tr>\n",
       "    <tr>\n",
       "      <th>...</th>\n",
       "      <td>...</td>\n",
       "      <td>...</td>\n",
       "      <td>...</td>\n",
       "      <td>...</td>\n",
       "      <td>...</td>\n",
       "      <td>...</td>\n",
       "      <td>...</td>\n",
       "      <td>...</td>\n",
       "      <td>...</td>\n",
       "    </tr>\n",
       "    <tr>\n",
       "      <th>24022</th>\n",
       "      <td>mansfield</td>\n",
       "      <td>texas</td>\n",
       "      <td>united states</td>\n",
       "      <td>32.56319</td>\n",
       "      <td>-97.14168</td>\n",
       "      <td>64274</td>\n",
       "      <td>Mansfield OH MSA</td>\n",
       "      <td>True</td>\n",
       "      <td>POINT (-10813762.352 3837467.237)</td>\n",
       "    </tr>\n",
       "    <tr>\n",
       "      <th>24023</th>\n",
       "      <td>belfast</td>\n",
       "      <td>maine</td>\n",
       "      <td>united states</td>\n",
       "      <td>44.42591</td>\n",
       "      <td>-69.00642</td>\n",
       "      <td>6682</td>\n",
       "      <td>None</td>\n",
       "      <td>True</td>\n",
       "      <td>POINT (-7681759.536 5531591.056)</td>\n",
       "    </tr>\n",
       "    <tr>\n",
       "      <th>24024</th>\n",
       "      <td>flushing</td>\n",
       "      <td>michigan</td>\n",
       "      <td>united states</td>\n",
       "      <td>43.06308</td>\n",
       "      <td>-83.85107</td>\n",
       "      <td>8086</td>\n",
       "      <td>Wheeling WV-OH MSA</td>\n",
       "      <td>True</td>\n",
       "      <td>POINT (-9334258.415 5321578.2)</td>\n",
       "    </tr>\n",
       "    <tr>\n",
       "      <th>24025</th>\n",
       "      <td>stone mountain</td>\n",
       "      <td>georgia</td>\n",
       "      <td>united states</td>\n",
       "      <td>33.80816</td>\n",
       "      <td>-84.17020</td>\n",
       "      <td>6109</td>\n",
       "      <td>Atlanta-Sandy Springs-Marietta GA MSA</td>\n",
       "      <td>True</td>\n",
       "      <td>POINT (-9369783.804 4003071.597)</td>\n",
       "    </tr>\n",
       "    <tr>\n",
       "      <th>24026</th>\n",
       "      <td>moorhead</td>\n",
       "      <td>minnesota</td>\n",
       "      <td>united states</td>\n",
       "      <td>46.87386</td>\n",
       "      <td>-96.76951</td>\n",
       "      <td>42005</td>\n",
       "      <td>Fargo ND-MN MSA</td>\n",
       "      <td>True</td>\n",
       "      <td>POINT (-10772332.578 5921509.064)</td>\n",
       "    </tr>\n",
       "  </tbody>\n",
       "</table>\n",
       "<p>24027 rows × 9 columns</p>\n",
       "</div>"
      ],
      "text/plain": [
       "                   city             state        country  latitude  longitude  \\\n",
       "0               mahopac          new york  united states  41.37232  -73.73346   \n",
       "1           seven hills              ohio  united states  41.39533  -81.67624   \n",
       "2      new martinsville     west virginia  united states  39.64452  -80.85760   \n",
       "3         sint anthonis     north brabant    netherlands  51.62667    5.88194   \n",
       "4               machali  o higgins region          chile -34.18082  -70.64933   \n",
       "...                 ...               ...            ...       ...        ...   \n",
       "24022         mansfield             texas  united states  32.56319  -97.14168   \n",
       "24023           belfast             maine  united states  44.42591  -69.00642   \n",
       "24024          flushing          michigan  united states  43.06308  -83.85107   \n",
       "24025    stone mountain           georgia  united states  33.80816  -84.17020   \n",
       "24026          moorhead         minnesota  united states  46.87386  -96.76951   \n",
       "\n",
       "       population                                                msa     US  \\\n",
       "0            8369  New York-Northern New Jersey-Long Island NY-NJ...   True   \n",
       "1           11690                                               None   True   \n",
       "2            5218                                               None   True   \n",
       "3            3340                                               None  False   \n",
       "4           27595                                               None  False   \n",
       "...           ...                                                ...    ...   \n",
       "24022       64274                                   Mansfield OH MSA   True   \n",
       "24023        6682                                               None   True   \n",
       "24024        8086                                 Wheeling WV-OH MSA   True   \n",
       "24025        6109              Atlanta-Sandy Springs-Marietta GA MSA   True   \n",
       "24026       42005                                    Fargo ND-MN MSA   True   \n",
       "\n",
       "                                geometry  \n",
       "0       POINT (-8207971.222 5067414.863)  \n",
       "1        POINT (-9092157.447 5070828.79)  \n",
       "2       POINT (-9001026.859 4814418.565)  \n",
       "3         POINT (654774.566 6732902.058)  \n",
       "4       POINT (-7864647.44 -4053107.653)  \n",
       "...                                  ...  \n",
       "24022  POINT (-10813762.352 3837467.237)  \n",
       "24023   POINT (-7681759.536 5531591.056)  \n",
       "24024     POINT (-9334258.415 5321578.2)  \n",
       "24025   POINT (-9369783.804 4003071.597)  \n",
       "24026  POINT (-10772332.578 5921509.064)  \n",
       "\n",
       "[24027 rows x 9 columns]"
      ]
     },
     "execution_count": 2,
     "metadata": {},
     "output_type": "execute_result"
    }
   ],
   "source": [
    "pth = os.path.join('..', 'data', 'geodataframe.gpkg')\n",
    "gdf = gpd.read_file(pth); gdf"
   ]
  },
  {
   "cell_type": "code",
   "execution_count": 3,
   "id": "3ed5f40b",
   "metadata": {},
   "outputs": [
    {
     "data": {
      "application/vnd.jupyter.widget-view+json": {
       "model_id": "92110b981ecd4da5aae7849471ac1072",
       "version_major": 2,
       "version_minor": 0
      },
      "text/plain": [
       "  0%|          | 0/500 [00:00<?, ?it/s]"
      ]
     },
     "metadata": {},
     "output_type": "display_data"
    }
   ],
   "source": [
    "# iterative density-based clustering with DBSCAN\n",
    "eps_dbscan = 30e3          # 30 km max distance\n",
    "min_samples_dbscan = 1e6   # 1m min population\n",
    "mean_dpc = fit_iterative_density_model(gdf = gdf,\n",
    "                                       eps_dbscan = eps_dbscan,         \n",
    "                                       min_samples_dbscan = min_samples_dbscan,\n",
    "                                       n_iter = 500,\n",
    "                                       return_metrics = True)"
   ]
  },
  {
   "cell_type": "code",
   "execution_count": 12,
   "id": "0e21c239",
   "metadata": {},
   "outputs": [
    {
     "data": {
      "image/png": "[encoded data removed]",
      "text/plain": [
       "<Figure size 400x400 with 1 Axes>"
      ]
     },
     "metadata": {},
     "output_type": "display_data"
    }
   ],
   "source": [
    "n_iter_converge = 225\n",
    "fig, ax = plt.subplots(1, 1, figsize = (4, 4))\n",
    "ax.plot(mean_dpc[:, 0], lw = 2, color = 'cornflowerblue', label = 'Clustered')\n",
    "ax.plot(mean_dpc[:, 1], lw = 2, color = 'tomato', label = 'Other')\n",
    "ax.axvline(n_iter_converge, c = 'k', ls = '--', zorder = 0, label = 'Converged')\n",
    "ax.set_ylabel('log10 Distance per capita (mean)')\n",
    "ax.set_xlabel('Iteration')\n",
    "ax.set_title('Iterative density-based clustering')\n",
    "ax.legend(frameon = False)\n",
    "plt.tight_layout() \n",
    "plt.show()"
   ]
  },
  {
   "cell_type": "code",
   "execution_count": 13,
   "id": "e2165e95",
   "metadata": {},
   "outputs": [
    {
     "data": {
      "application/vnd.jupyter.widget-view+json": {
       "model_id": "5ee83b3d93ca4ee3a76e210772995a99",
       "version_major": 2,
       "version_minor": 0
      },
      "text/plain": [
       "  0%|          | 0/225 [00:00<?, ?it/s]"
      ]
     },
     "metadata": {},
     "output_type": "display_data"
    }
   ],
   "source": [
    "# final clustering (to convergence)\n",
    "gdf = fit_iterative_density_model(gdf = gdf,\n",
    "                                  eps_dbscan = eps_dbscan,\n",
    "                                  min_samples_dbscan = min_samples_dbscan,\n",
    "                                  n_iter = n_iter_converge,\n",
    "                                  return_gdf = True)"
   ]
  },
  {
   "cell_type": "code",
   "execution_count": 16,
   "id": "69530fbe",
   "metadata": {},
   "outputs": [],
   "source": [
    "gdf.to_file(os.path.join('..', 'data', 'geodataframe_density.gpkg'), driver = 'GPKG')"
   ]
  },
  {
   "cell_type": "code",
   "execution_count": null,
   "id": "adb41b58",
   "metadata": {},
   "outputs": [],
   "source": []
  }
 ],
 "metadata": {
  "kernelspec": {
   "display_name": "revelio-assignment",
   "language": "python",
   "name": "python3"
  },
  "language_info": {
   "codemirror_mode": {
    "name": "ipython",
    "version": 3
   },
   "file_extension": ".py",
   "mimetype": "text/x-python",
   "name": "python",
   "nbconvert_exporter": "python",
   "pygments_lexer": "ipython3",
   "version": "3.13.5"
  }
 },
 "nbformat": 4,
 "nbformat_minor": 5
}
